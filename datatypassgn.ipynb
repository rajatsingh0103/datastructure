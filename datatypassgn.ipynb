{
  "nbformat": 4,
  "nbformat_minor": 0,
  "metadata": {
    "colab": {
      "provenance": []
    },
    "kernelspec": {
      "name": "python3",
      "display_name": "Python 3"
    },
    "language_info": {
      "name": "python"
    }
  },
  "cells": [
    {
      "cell_type": "markdown",
      "source": [
        "1.What are data structures, and why are they important?\n",
        "\n",
        "Data structures are fundamental concepts in computer science. They are essentially ways of organizing, managing, and storing data in a computer so that it can be accessed and modified efficiently. Different data structures are suited for different purposes, depending on the type of data and the operations that need to be performed.\n",
        "\n",
        "They are important for several reasons:\n",
        "\n",
        "Efficiency: Choosing the right data structure can significantly impact the performance of an algorithm or program. Efficient data structures allow for faster data access, insertion, deletion, and manipulation.\n",
        "\n",
        "Organization: They provide a clear and logical way to organize data, making it easier to understand and manage complex information.\n",
        "\n",
        "Problem Solving: Data structures are essential tools for solving many programming problems. Understanding how to use different data structures can help you design more effective and efficient solutions.\n",
        "\n",
        "Memory Management: Some data structures are designed to optimize memory usage, which is important in resource-constrained environments.\n",
        "\n",
        "\n",
        "2.Explain the difference between mutable and immutable data types with examplesP\n",
        "Mutable Data Types:\n",
        "\n",
        "Mutable data types are those whose values can be changed after they are created. When you modify a mutable object, you are changing the object itself in memory.\n",
        "\n",
        "Examples of mutable data types in Python include:\n",
        "\n",
        "Lists: You can add, remove, or change elements in a list after it's created.\n",
        "my_list = [1, 2, 3]\n",
        "my_list[0] = 10\n",
        "print(my_list)  # Output: [10, 2, 3]\n",
        "\n",
        "\n",
        "Immutable Data Types:\n",
        "\n",
        "Immutable data types are those whose values cannot be changed after they are created. When you perform an operation that appears to modify an immutable object, you are actually creating a new object with the new value. The original object remains unchanged.\n",
        "\n",
        "Examples of immutable data types in Python include:\n",
        "\n",
        "Strings: You cannot change individual characters in a string.\n",
        "my_string = \"hello\"\n",
        "# my_string[0] = \"H\"  # This would cause an error\n",
        "new_string = my_string.upper()\n",
        "print(my_string)  # Output: hello\n",
        "print(new_string) # Output: HELLO\n",
        "\n",
        "3.What are the main differences between lists and tuples in Python?\n",
        "Mutability: This is the most significant difference.\n",
        "Lists are mutable, meaning you can change their contents after they are created (add, remove, or modify elements).\n",
        "Tuples are immutable, meaning once a tuple is created, you cannot change its contents.\n",
        "Syntax:\n",
        "Lists are defined using square brackets [].\n",
        "Tuples are defined using parentheses ().\n",
        "Performance:\n",
        "Due to their immutable nature, tuples are generally slightly faster than lists for iteration and accessing elements. This is because their size is fixed, and Python can perform some optimizations.\n",
        "Lists are more flexible for operations that involve changing the size or content of the collection\n",
        "\n",
        "\n",
        "4.Describe how dictionaries store data?\n",
        "Dictionaries in Python store data as a collection of key-value pairs. Think of it like a real-world dictionary where you have words (keys) and their definitions (values).\n",
        "\n",
        "Here's a breakdown of how it works:\n",
        "\n",
        "Keys: Each key in a dictionary must be unique and immutable. This means you can use things like strings, numbers, or tuples as keys, but not lists or other dictionaries. The keys are used to look up the associated values.\n",
        "Values: The values in a dictionary can be of any data type (mutable or immutable), and they don't have to be unique.\n",
        "\n",
        "5.Why might you use a set instead of a list in Python\n",
        "6.What is a string in Python, and how is it different from a list\n",
        "A string in Python is a sequence of characters, such as letters, numbers, and symbols, enclosed in single or double quotes. It's an immutable data type, meaning you can't change individual characters after the string is created. For example, 'hello' and \"Python 3\" are both strings.\n",
        "\n",
        "A list, on the other hand, is a collection of items (which can be of different data types) enclosed in square brackets and separated by commas. Lists are mutable, so you can add, remove, or change elements within them. An example is ['apple', 1, True].\n",
        "\n",
        "7.How do tuples ensure data integrity in Python\n",
        "Tuples ensure data integrity in Python 3 primarily because of their immutability\n",
        "\n",
        "8.What is a hash table, and how does it relate to dictionaries in Python\n",
        "\n",
        "A hash table (also known as a hash map or dictionary) is a data structure that implements an associative array or dictionary abstract data type. It's a way of storing data in key-value pairs, where a hash function is used to compute an index (or \"hash\") into an array of buckets or slots, from which the desired value can be found.\n",
        "\n",
        "9.Can lists contain different data types in Python\n",
        "Yes, lists in Python can contain different data types\n",
        "\n",
        "10.Explain why strings are immutable in Python\n",
        "Strings are immutable in Python, which means once a string is created, its contents cannot be changed\n",
        "\n",
        "11.What advantages do dictionaries offer over lists for certain tasks\n",
        "\n",
        " Dictionaries and lists both store collections of data, but they are designed for different purposes and excel in different scenarios. Here are the main advantages dictionaries offer over lists for certain tasks:\n",
        "\n",
        "Fast Lookups (by key): This is the most significant advantage. Dictionaries are optimized for retrieving values based on a specific key. As we discussed, they use hash tables internally, which allows for very fast (average O(1) time complexity) lookups. If you know the \"name\" or \"identifier\" of the data you want (the key), a dictionary can access it almost instantly, regardless of the size of the dictionary.\n",
        "\n",
        "Lists, on the other hand, require you to know the numerical index of the element you want to access. If you want to find an element based on its value, you typically have to iterate through the list, which can be slow (O(n) time complexity) for large lists.\n",
        "\n",
        "Example: Imagine you have a list of user objects and you want to find a user by their ID. In a list, you'd have to loop through each user until you find the one with the matching ID. In a dictionary where user IDs are keys and user objects are values, you can access the user directly using users_dict[user_id].\n",
        "\n",
        "Associative Storage: Dictionaries store data as key-value pairs, which inherently represents a relationship or association between the key and the value. This makes dictionaries ideal for representing data where you need to link one piece of information to another.\n",
        "\n",
        "Lists store data in a sequence, where the position (index) is the primary way to access elements. While you can store related data in parallel lists or lists of lists, it's often less intuitive and harder to manage than using a dictionary's key-value structure.\n",
        "\n",
        "Example: Storing information about a person:\n",
        "\n",
        "List: ['Alice', 30, 'Engineer'] - You need to remember that the first element is the name, the second is the age, etc.\n",
        "Dictionary: {'name': 'Alice', 'age': 30, 'occupation': 'Engineer'} - The keys clearly label the data.\n",
        "\n",
        "12.Describe a scenario where using a tuple would be preferable over a list?\n",
        "\n",
        "\n",
        "A common and excellent scenario for using a tuple instead of a list is when you need to represent a fixed collection of related data where the values should not be changed after creation.\n",
        "\n",
        "Scenario: Representing a Geographical Coordinate\n",
        "\n",
        "Imagine you are working with geographical data and need to store the latitude and longitude of a specific location.\n",
        "\n",
        "Using a List: You could represent this using a list:\n",
        "coordinates_list = [34.0522, -118.2437] # [latitude, longitude]\n",
        "However, since lists are mutable, there's a possibility that later in your code, you might accidentally change one of the values:\n",
        "\n",
        "coordinates_list[0] = 35.1234 # Oops, accidentally changed the latitude\n",
        "This could lead to errors or inconsistencies in your geographical calculations.\n",
        "\n",
        "Using a Tuple: Representing the same data with a tuple provides better data integrity:\n",
        "coordinates_tuple = (34.0522, -118.2437) # (latitude, longitude)\n",
        "Because tuples are immutable, any attempt to change an element will result in an error:\n",
        "\n",
        "# coordinates_tuple[0] = 35.1234 # This would raise a TypeError\n",
        "13.How do sets handle duplicate values in Python?\n",
        "Sets are designed to store only unique elements. When you add elements to a set, any duplicates are automatically discarded. This makes sets useful for tasks where you need to ensure that each item appears only once, such as finding the unique elements in a list.\n",
        "14.How does the “in” keyword work differently for lists and dictionaries?\n",
        "\n",
        "The in keyword is used to check for membership in both lists and dictionaries, but it works differently for each:\n",
        "\n",
        "For lists: The in keyword checks if an element is present as a value within the list. It iterates through the list to see if any of the list's elements match the value you are searching for.\n",
        "For dictionaries: The in keyword checks if a key is present in the dictionary. It does not directly check if a value exists within the dictionary's values. To check if a value exists in a dictionary, you would typically iterate through the dictionary's values or use the .values() method.\n",
        "\n",
        "15.Can you modify the elements of a tuple? Explain why or why not?\n",
        "No, you cannot modify the elements of a tuple after it has been created. Tuples are immutable data types in Python.\n",
        "\n",
        "This immutability is a fundamental characteristic of tuples and is the reason why you cannot change individual elements. When you create a tuple, its contents are fixed in memory.\n",
        "16.What is a nested dictionary, and give an example of its use case?\n",
        "A nested dictionary is a dictionary where the values are themselves dictionaries. 📖 This allows you to create a hierarchical data structure, organizing information in layers. Think of it like a filing cabinet 🗄️ where each drawer (the outer dictionary's key) contains files (the inner dictionary's key-value pairs).\n",
        "17.Describe the time complexity of accessing elements in a dictionary?\n",
        "The time complexity of accessing elements in a Python dictionary is, on average, O(1) (constant time).\n",
        "\n",
        "This means that the time it takes to retrieve a value using its key remains relatively constant, regardless of the size of the dictionary. This is a major advantage of dictionaries for lookup operations.\n",
        "18.In what situations are lists preferred over dictionaries\n",
        " use lists when order is important, you have a simple collection without unique keys, you need to store duplicates, or you need to access elements by their position. Use dictionaries when you need fast lookups based on a key and want to associate values with unique identifiers.\n",
        "\n",
        "19 Why are dictionaries considered unordered, and how does that affect data retrieval\n",
        "In older versions of Python (before 3.7), dictionaries were considered unordered. This meant that the order in which you inserted elements into a dictionary was not guaranteed to be the order in which they were stored or retrieved. The internal organization of the dictionary was based on the hash values of the keys, which didn't necessarily correspond to the insertion order.\n",
        "\n",
        "How this affected data retrieval (in older Python versions):\n",
        "\n",
        "If you iterated through a dictionary in older Python versions, the order in which you accessed the key-value pairs could be arbitrary and might even change between different runs of the same program. This meant you couldn't rely on the order of elements when retrieving data. If you needed ordered data, you would typically extract the keys or values into a list and sort it separately.\n",
        "\n",
        "20 Explain the difference between a list and a dictionary in terms of data retrieval.\n",
        "\n",
        "The key difference between lists and dictionaries in terms of data retrieval lies in how you access the elements:\n",
        "\n",
        "Lists: You retrieve data from a list using its index. Indices are numerical positions starting from 0 for the first element. You access elements like my_list[0], my_list[1], and so on. To find a specific value, you might have to iterate through the list until you find it, which can be slow for large lists (linear time complexity).\n",
        "Dictionaries: You retrieve data from a dictionary using its key. Keys are unique identifiers associated with values. You access values like my_dictionary['name'], my_dictionary['age'], etc. Dictionaries are optimized for fast lookups based on keys, providing near-instantaneous access to values (constant time complexity on average), regardless of the dictionary's size.\n",
        "\n",
        "\n"
      ],
      "metadata": {
        "id": "SubE657SDEhz"
      }
    },
    {
      "cell_type": "code",
      "source": [],
      "metadata": {
        "id": "QN5Jm8S9i9yj"
      },
      "execution_count": null,
      "outputs": []
    },
    {
      "cell_type": "code",
      "source": [
        "1.Write a code to create a string with your name and print it"
      ],
      "metadata": {
        "id": "iHur3VYGA-RG"
      },
      "execution_count": null,
      "outputs": []
    },
    {
      "cell_type": "code",
      "metadata": {
        "colab": {
          "base_uri": "https://localhost:8080/"
        },
        "id": "6852bc68",
        "outputId": "c87f2e5c-8cb8-46bf-a2ab-38a506ac8e65"
      },
      "source": [
        "my_name = \"Your Name\" # Replace \"Your Name\" with your actual name\n",
        "print(my_name)"
      ],
      "execution_count": null,
      "outputs": [
        {
          "output_type": "stream",
          "name": "stdout",
          "text": [
            "Your Name\n"
          ]
        }
      ]
    },
    {
      "cell_type": "code",
      "source": [
        "2.Write a code to find the length of the string \"Hello World\""
      ],
      "metadata": {
        "id": "pGcKcbd3DD8K"
      },
      "execution_count": null,
      "outputs": []
    },
    {
      "cell_type": "code",
      "metadata": {
        "colab": {
          "base_uri": "https://localhost:8080/"
        },
        "id": "3a6583bd",
        "outputId": "b469e912-172a-4985-dc95-95b147bca4ed"
      },
      "source": [
        "my_string = \"Hello World\"\n",
        "string_length = len(my_string)\n",
        "print(f\"The length of the string '{my_string}' is: {string_length}\")"
      ],
      "execution_count": null,
      "outputs": [
        {
          "output_type": "stream",
          "name": "stdout",
          "text": [
            "The length of the string 'Hello World' is: 11\n"
          ]
        }
      ]
    },
    {
      "cell_type": "code",
      "source": [
        "3.Write a code to slice the first 3 characters from the string \"Python Programming\""
      ],
      "metadata": {
        "id": "WnsoTmbSDl5C"
      },
      "execution_count": null,
      "outputs": []
    },
    {
      "cell_type": "code",
      "metadata": {
        "colab": {
          "base_uri": "https://localhost:8080/"
        },
        "id": "51175585",
        "outputId": "82fcb2df-647b-464e-9472-8a25c9738501"
      },
      "source": [
        "my_string = \"Python Programming\"\n",
        "sliced_string = my_string[:3]\n",
        "print(sliced_string)"
      ],
      "execution_count": null,
      "outputs": [
        {
          "output_type": "stream",
          "name": "stdout",
          "text": [
            "Pyt\n"
          ]
        }
      ]
    },
    {
      "cell_type": "code",
      "source": [
        "4.Write a code to convert the string \"hello\" to uppercase"
      ],
      "metadata": {
        "id": "KgQ6q7AgEtZj"
      },
      "execution_count": null,
      "outputs": []
    },
    {
      "cell_type": "code",
      "metadata": {
        "colab": {
          "base_uri": "https://localhost:8080/"
        },
        "id": "f265ea56",
        "outputId": "76efa24c-e6c4-4ff4-b56d-d4b410f33b24"
      },
      "source": [
        "my_string = \"hello\"\n",
        "uppercase_string = my_string.upper()\n",
        "print(uppercase_string)"
      ],
      "execution_count": null,
      "outputs": [
        {
          "output_type": "stream",
          "name": "stdout",
          "text": [
            "HELLO\n"
          ]
        }
      ]
    },
    {
      "cell_type": "code",
      "source": [
        "5.Write a code to replace the word \"apple\" with \"orange\" in the string \"I like apple\""
      ],
      "metadata": {
        "id": "w4bxw0pcE-GZ"
      },
      "execution_count": null,
      "outputs": []
    },
    {
      "cell_type": "code",
      "metadata": {
        "colab": {
          "base_uri": "https://localhost:8080/"
        },
        "id": "d389853b",
        "outputId": "db72fda2-664a-4017-dd95-16ccf61ace97"
      },
      "source": [
        "my_string = \"I like apple\"\n",
        "new_string = my_string.replace(\"apple\", \"orange\")\n",
        "print(new_string)"
      ],
      "execution_count": null,
      "outputs": [
        {
          "output_type": "stream",
          "name": "stdout",
          "text": [
            "I like orange\n"
          ]
        }
      ]
    },
    {
      "cell_type": "code",
      "source": [
        "6.Write a code to create a list with numbers 1 to 5 and print it"
      ],
      "metadata": {
        "id": "_DA9rb8AFMpJ"
      },
      "execution_count": null,
      "outputs": []
    },
    {
      "cell_type": "code",
      "metadata": {
        "colab": {
          "base_uri": "https://localhost:8080/"
        },
        "id": "c6c71572",
        "outputId": "b5da464c-acd2-4f9c-e1f2-d18ea5566fc5"
      },
      "source": [
        "my_list = [1, 2, 3, 4, 5]\n",
        "print(my_list)"
      ],
      "execution_count": null,
      "outputs": [
        {
          "output_type": "stream",
          "name": "stdout",
          "text": [
            "[1, 2, 3, 4, 5]\n"
          ]
        }
      ]
    },
    {
      "cell_type": "code",
      "source": [
        "7.Write a code to append the number 10 to the list [1, 2, 3, 4]."
      ],
      "metadata": {
        "id": "Ysb9Pp1Li_4z"
      },
      "execution_count": null,
      "outputs": []
    },
    {
      "cell_type": "code",
      "metadata": {
        "colab": {
          "base_uri": "https://localhost:8080/"
        },
        "id": "ff4bafb4",
        "outputId": "aee689f8-14c5-4ab9-ca1c-69e767d7450d"
      },
      "source": [
        "my_list = [1, 2, 3, 4]\n",
        "my_list.append(10)\n",
        "print(my_list)"
      ],
      "execution_count": null,
      "outputs": [
        {
          "output_type": "stream",
          "name": "stdout",
          "text": [
            "[1, 2, 3, 4, 10]\n"
          ]
        }
      ]
    },
    {
      "cell_type": "code",
      "source": [
        "8.Write a code to remove the number 3 from the list [1, 2, 3, 4, 5]."
      ],
      "metadata": {
        "id": "QZyipXSLjSyE"
      },
      "execution_count": null,
      "outputs": []
    },
    {
      "cell_type": "code",
      "source": [],
      "metadata": {
        "id": "GlBLK8htjhM1"
      },
      "execution_count": null,
      "outputs": []
    },
    {
      "cell_type": "code",
      "metadata": {
        "colab": {
          "base_uri": "https://localhost:8080/"
        },
        "id": "a9609103",
        "outputId": "978d0c0b-0244-498b-f4c4-050dbd4d5f04"
      },
      "source": [
        "my_list = [1, 2, 3, 4, 5]\n",
        "my_list.remove(3)\n",
        "print(my_list)"
      ],
      "execution_count": null,
      "outputs": [
        {
          "output_type": "stream",
          "name": "stdout",
          "text": [
            "[1, 2, 4, 5]\n"
          ]
        }
      ]
    },
    {
      "cell_type": "code",
      "source": [
        "9. Write a code to access the second element in the list ['a', 'b', 'c', 'd']."
      ],
      "metadata": {
        "id": "issntH8yjiJq"
      },
      "execution_count": null,
      "outputs": []
    },
    {
      "cell_type": "code",
      "metadata": {
        "colab": {
          "base_uri": "https://localhost:8080/"
        },
        "id": "c9f23607",
        "outputId": "a1c06293-ffeb-4180-bbf5-56cec0680a4f"
      },
      "source": [
        "my_list = ['a', 'b', 'c', 'd']\n",
        "second_element = my_list[1]\n",
        "print(second_element)"
      ],
      "execution_count": null,
      "outputs": [
        {
          "output_type": "stream",
          "name": "stdout",
          "text": [
            "b\n"
          ]
        }
      ]
    },
    {
      "cell_type": "code",
      "source": [
        "10.Write a code to reverse the list [10, 20, 30, 40, 50]."
      ],
      "metadata": {
        "id": "lo98Ca48jwi9"
      },
      "execution_count": null,
      "outputs": []
    },
    {
      "cell_type": "code",
      "metadata": {
        "colab": {
          "base_uri": "https://localhost:8080/"
        },
        "id": "c2a12a9d",
        "outputId": "7bf5aff2-9234-474e-c072-88c2eae310dc"
      },
      "source": [
        "my_list = [10, 20, 30, 40, 50]\n",
        "my_list.reverse()\n",
        "print(my_list)"
      ],
      "execution_count": null,
      "outputs": [
        {
          "output_type": "stream",
          "name": "stdout",
          "text": [
            "[50, 40, 30, 20, 10]\n"
          ]
        }
      ]
    },
    {
      "cell_type": "code",
      "source": [
        "11.Write a code to create a tuple with the elements 100, 200, 300 and print it."
      ],
      "metadata": {
        "id": "d4qmBBMQkEbG"
      },
      "execution_count": null,
      "outputs": []
    },
    {
      "cell_type": "code",
      "metadata": {
        "colab": {
          "base_uri": "https://localhost:8080/"
        },
        "id": "d1fa9d5f",
        "outputId": "2aa88c46-4e62-402e-ea61-76fdf9e5be59"
      },
      "source": [
        "my_tuple = (100, 200, 300)\n",
        "print(my_tuple)"
      ],
      "execution_count": null,
      "outputs": [
        {
          "output_type": "stream",
          "name": "stdout",
          "text": [
            "(100, 200, 300)\n"
          ]
        }
      ]
    },
    {
      "cell_type": "code",
      "source": [
        "12.Write a code to access the second-to-last element of the tuple ('red', 'green', 'blue', 'yellow')."
      ],
      "metadata": {
        "id": "2IOCCwCEzjjb"
      },
      "execution_count": null,
      "outputs": []
    },
    {
      "cell_type": "code",
      "metadata": {
        "colab": {
          "base_uri": "https://localhost:8080/"
        },
        "id": "8d9ac7fe",
        "outputId": "5d063c20-e1fd-4fbd-8191-b191eb8d62e0"
      },
      "source": [
        "my_tuple = ('red', 'green', 'blue', 'yellow')\n",
        "second_to_last_element = my_tuple[-2]\n",
        "print(second_to_last_element)"
      ],
      "execution_count": null,
      "outputs": [
        {
          "output_type": "stream",
          "name": "stdout",
          "text": [
            "blue\n"
          ]
        }
      ]
    },
    {
      "cell_type": "code",
      "source": [
        "13. Write a code to find the minimum number in the tuple (10, 20, 5, 15)"
      ],
      "metadata": {
        "id": "uPRV4e98z77B"
      },
      "execution_count": null,
      "outputs": []
    },
    {
      "cell_type": "code",
      "metadata": {
        "colab": {
          "base_uri": "https://localhost:8080/"
        },
        "id": "43b3a589",
        "outputId": "e910fa73-a1e2-4af7-d9a5-d2cc6d2e1958"
      },
      "source": [
        "my_tuple = (10, 20, 5, 15)\n",
        "minimum_number = min(my_tuple)\n",
        "print(f\"The minimum number in the tuple is: {minimum_number}\")"
      ],
      "execution_count": null,
      "outputs": [
        {
          "output_type": "stream",
          "name": "stdout",
          "text": [
            "The minimum number in the tuple is: 5\n"
          ]
        }
      ]
    },
    {
      "cell_type": "code",
      "source": [
        "14.Write a code to find the index of the element \"cat\" in the tuple ('dog', 'cat', 'rabbit')."
      ],
      "metadata": {
        "id": "qydEOW3r0TGn"
      },
      "execution_count": null,
      "outputs": []
    },
    {
      "cell_type": "code",
      "metadata": {
        "colab": {
          "base_uri": "https://localhost:8080/"
        },
        "id": "f6ddc9fe",
        "outputId": "e11f5fd7-2152-422e-f3b1-9ff56caf17e5"
      },
      "source": [
        "my_tuple = ('dog', 'cat', 'rabbit')\n",
        "index_of_cat = my_tuple.index('cat')\n",
        "print(f\"The index of 'cat' is: {index_of_cat}\")"
      ],
      "execution_count": null,
      "outputs": [
        {
          "output_type": "stream",
          "name": "stdout",
          "text": [
            "The index of 'cat' is: 1\n"
          ]
        }
      ]
    },
    {
      "cell_type": "code",
      "source": [
        "15.Write a code to create a tuple containing three different fruits and check if \"kiwi\" is in it"
      ],
      "metadata": {
        "id": "br_mTmS40d5b"
      },
      "execution_count": null,
      "outputs": []
    },
    {
      "cell_type": "code",
      "metadata": {
        "colab": {
          "base_uri": "https://localhost:8080/"
        },
        "id": "e020403d",
        "outputId": "b9dbacb3-9e79-478d-db34-beb214fb2f25"
      },
      "source": [
        "fruits_tuple = ('apple', 'banana', 'orange')\n",
        "is_kiwi_in_tuple = \"kiwi\" in fruits_tuple\n",
        "print(f\"Is 'kiwi' in the tuple? {is_kiwi_in_tuple}\")"
      ],
      "execution_count": null,
      "outputs": [
        {
          "output_type": "stream",
          "name": "stdout",
          "text": [
            "Is 'kiwi' in the tuple? False\n"
          ]
        }
      ]
    },
    {
      "cell_type": "code",
      "source": [
        "16.Write a code to create a set with the elements 'a', 'b', 'c' and print it."
      ],
      "metadata": {
        "id": "cTjkicPf1BbU"
      },
      "execution_count": null,
      "outputs": []
    },
    {
      "cell_type": "code",
      "metadata": {
        "colab": {
          "base_uri": "https://localhost:8080/"
        },
        "id": "34c48e40",
        "outputId": "7d29f175-0585-4898-e606-17d9b4bfeada"
      },
      "source": [
        "my_set = {'a', 'b', 'c'}\n",
        "print(my_set)"
      ],
      "execution_count": null,
      "outputs": [
        {
          "output_type": "stream",
          "name": "stdout",
          "text": [
            "{'c', 'b', 'a'}\n"
          ]
        }
      ]
    },
    {
      "cell_type": "code",
      "source": [
        "17.Write a code to clear all elements from the set {1, 2, 3, 4, 5}."
      ],
      "metadata": {
        "id": "tJqTpp061PQf"
      },
      "execution_count": null,
      "outputs": []
    },
    {
      "cell_type": "code",
      "metadata": {
        "colab": {
          "base_uri": "https://localhost:8080/"
        },
        "id": "644382a4",
        "outputId": "95ac537e-7c0c-4ee5-bd51-3dd903874369"
      },
      "source": [
        "my_set = {1, 2, 3, 4, 5}\n",
        "my_set.clear()\n",
        "print(my_set)"
      ],
      "execution_count": null,
      "outputs": [
        {
          "output_type": "stream",
          "name": "stdout",
          "text": [
            "set()\n"
          ]
        }
      ]
    },
    {
      "cell_type": "code",
      "source": [
        "18.Write a code to remove the element 4 from the set {1, 2, 3, 4}."
      ],
      "metadata": {
        "id": "kh-zH8iH1YYb"
      },
      "execution_count": null,
      "outputs": []
    },
    {
      "cell_type": "code",
      "metadata": {
        "colab": {
          "base_uri": "https://localhost:8080/"
        },
        "id": "c93dc6f6",
        "outputId": "514172d4-06ee-491c-baaa-77f593d01663"
      },
      "source": [
        "my_set = {1, 2, 3, 4}\n",
        "my_set.remove(4)\n",
        "print(my_set)"
      ],
      "execution_count": null,
      "outputs": [
        {
          "output_type": "stream",
          "name": "stdout",
          "text": [
            "{1, 2, 3}\n"
          ]
        }
      ]
    },
    {
      "cell_type": "code",
      "source": [
        "19.Write a code to find the union of two sets {1, 2, 3} and {3, 4, 5}."
      ],
      "metadata": {
        "id": "jLH8Llux1lk-"
      },
      "execution_count": null,
      "outputs": []
    },
    {
      "cell_type": "code",
      "metadata": {
        "colab": {
          "base_uri": "https://localhost:8080/"
        },
        "id": "65f37b8e",
        "outputId": "e1d3fb43-c50a-4cd3-931d-32755b5dbb7d"
      },
      "source": [
        "set1 = {1, 2, 3}\n",
        "set2 = {3, 4, 5}\n",
        "union_set = set1.union(set2)\n",
        "print(union_set)"
      ],
      "execution_count": null,
      "outputs": [
        {
          "output_type": "stream",
          "name": "stdout",
          "text": [
            "{1, 2, 3, 4, 5}\n"
          ]
        }
      ]
    },
    {
      "cell_type": "code",
      "source": [
        "20.Write a code to find the intersection of two sets {1, 2, 3} and {2, 3, 4}."
      ],
      "metadata": {
        "id": "rIv_VI-71wYE"
      },
      "execution_count": null,
      "outputs": []
    },
    {
      "cell_type": "code",
      "metadata": {
        "colab": {
          "base_uri": "https://localhost:8080/"
        },
        "id": "f0ab68a4",
        "outputId": "a596118b-7dc8-4144-8eaa-337861670b6d"
      },
      "source": [
        "set1 = {1, 2, 3}\n",
        "set2 = {2, 3, 4}\n",
        "intersection_set = set1.intersection(set2)\n",
        "print(intersection_set)"
      ],
      "execution_count": null,
      "outputs": [
        {
          "output_type": "stream",
          "name": "stdout",
          "text": [
            "{2, 3}\n"
          ]
        }
      ]
    },
    {
      "cell_type": "code",
      "source": [
        "21.Write a code to create a dictionary with the keys \"name\", \"age\", and \"city\", and print it."
      ],
      "metadata": {
        "id": "B6ypiV_I18zc"
      },
      "execution_count": null,
      "outputs": []
    },
    {
      "cell_type": "code",
      "metadata": {
        "colab": {
          "base_uri": "https://localhost:8080/"
        },
        "id": "0f8b34ae",
        "outputId": "d830524d-74c2-42c3-d5eb-3835e2dcf930"
      },
      "source": [
        "my_dict = {\"name\": \"Alice\", \"age\": 30, \"city\": \"New York\"} # You can replace the values\n",
        "print(my_dict)"
      ],
      "execution_count": null,
      "outputs": [
        {
          "output_type": "stream",
          "name": "stdout",
          "text": [
            "{'name': 'Alice', 'age': 30, 'city': 'New York'}\n"
          ]
        }
      ]
    },
    {
      "cell_type": "code",
      "source": [
        "22. Write a code to add a new key-value pair \"country\": \"USA\" to the dictionary {'name': 'John', 'age': 25}."
      ],
      "metadata": {
        "id": "VyTSB0vl2FEy"
      },
      "execution_count": null,
      "outputs": []
    },
    {
      "cell_type": "code",
      "metadata": {
        "colab": {
          "base_uri": "https://localhost:8080/"
        },
        "id": "1babd3a0",
        "outputId": "dca537df-ff09-407e-e932-f6171a130309"
      },
      "source": [
        "my_dict = {'name': 'John', 'age': 25}\n",
        "my_dict[\"country\"] = \"USA\"\n",
        "print(my_dict)"
      ],
      "execution_count": null,
      "outputs": [
        {
          "output_type": "stream",
          "name": "stdout",
          "text": [
            "{'name': 'John', 'age': 25, 'country': 'USA'}\n"
          ]
        }
      ]
    },
    {
      "cell_type": "code",
      "source": [
        "23.Write a code to access the value associated with the key \"name\" in the dictionary {'name': 'Alice', 'age': 30}."
      ],
      "metadata": {
        "id": "-E0g7XBw2PZA"
      },
      "execution_count": null,
      "outputs": []
    },
    {
      "cell_type": "code",
      "metadata": {
        "colab": {
          "base_uri": "https://localhost:8080/"
        },
        "id": "a89010e9",
        "outputId": "bbd6babb-8cef-4465-cddd-3b252cc4f2de"
      },
      "source": [
        "my_dict = {'name': 'Alice', 'age': 30}\n",
        "name_value = my_dict[\"name\"]\n",
        "print(name_value)"
      ],
      "execution_count": null,
      "outputs": [
        {
          "output_type": "stream",
          "name": "stdout",
          "text": [
            "Alice\n"
          ]
        }
      ]
    },
    {
      "cell_type": "code",
      "source": [
        "24.Write a code to remove the key \"age\" from the dictionary {'name': 'Bob', 'age': 22, 'city': 'New York'}."
      ],
      "metadata": {
        "id": "KapuoJS82YBv"
      },
      "execution_count": null,
      "outputs": []
    },
    {
      "cell_type": "code",
      "source": [
        "# Define the initial dictionary\n",
        "my_dict = {'name': 'Bob', 'age': 22, 'city': 'New York'}\n",
        "\n",
        "# Remove the key 'age' using the del keyword\n",
        "del my_dict['age']\n",
        "\n",
        "# Print the modified dictionary\n",
        "print(my_dict)\n",
        "The output of the code is the modified dictionary: {'name': 'Bob', 'city': 'New York'}."
      ],
      "metadata": {
        "id": "5zkle-at4SEM"
      },
      "execution_count": null,
      "outputs": []
    },
    {
      "cell_type": "markdown",
      "source": [],
      "metadata": {
        "id": "-6hnS3Nv4Ah7"
      }
    },
    {
      "cell_type": "code",
      "source": [
        "25.Write a code to check if the key \"city\" exists in the dictionary {'name': 'Alice', 'city': 'Paris'}."
      ],
      "metadata": {
        "id": "LmFfiMhN2nLt"
      },
      "execution_count": null,
      "outputs": []
    },
    {
      "cell_type": "code",
      "metadata": {
        "colab": {
          "base_uri": "https://localhost:8080/"
        },
        "id": "df4f5884",
        "outputId": "76108155-e85b-43f1-9e97-dbcbde7a09e7"
      },
      "source": [
        "my_dict = {'name': 'Alice', 'city': 'Paris'}\n",
        "is_city_in_dict = \"city\" in my_dict\n",
        "print(f\"Does the key 'city' exist in the dictionary? {is_city_in_dict}\")"
      ],
      "execution_count": null,
      "outputs": [
        {
          "output_type": "stream",
          "name": "stdout",
          "text": [
            "Does the key 'city' exist in the dictionary? True\n"
          ]
        }
      ]
    },
    {
      "cell_type": "code",
      "source": [
        "26.Write a code to create a list, a tuple, and a dictionary, and print them all."
      ],
      "metadata": {
        "id": "VS0ycb9o2yO3"
      },
      "execution_count": null,
      "outputs": []
    },
    {
      "cell_type": "code",
      "metadata": {
        "colab": {
          "base_uri": "https://localhost:8080/"
        },
        "id": "c0138827",
        "outputId": "98a4a7b3-7826-4308-fbd2-afeb1d7c7dac"
      },
      "source": [
        "my_list = [1, 2, 3]\n",
        "my_tuple = (4, 5, 6)\n",
        "my_dict = {\"a\": 7, \"b\": 8, \"c\": 9}\n",
        "\n",
        "print(\"List:\", my_list)\n",
        "print(\"Tuple:\", my_tuple)\n",
        "print(\"Dictionary:\", my_dict)"
      ],
      "execution_count": null,
      "outputs": [
        {
          "output_type": "stream",
          "name": "stdout",
          "text": [
            "List: [1, 2, 3]\n",
            "Tuple: (4, 5, 6)\n",
            "Dictionary: {'a': 7, 'b': 8, 'c': 9}\n"
          ]
        }
      ]
    },
    {
      "cell_type": "code",
      "source": [
        "27.Write a code to create a list of 5 random numbers between 1 and 100, sort it in ascending order, and print the\n",
        "result.(replaced)"
      ],
      "metadata": {
        "id": "uGp5YnJl3BP0"
      },
      "execution_count": null,
      "outputs": []
    },
    {
      "cell_type": "code",
      "metadata": {
        "colab": {
          "base_uri": "https://localhost:8080/"
        },
        "id": "8827ff22",
        "outputId": "9d79918a-d63b-4b43-e8a2-e5b5f8db4780"
      },
      "source": [
        "import random\n",
        "\n",
        "# Create a list of 5 random numbers between 1 and 100\n",
        "random_numbers = [random.randint(1, 100) for _ in range(5)]\n",
        "\n",
        "# Sort the list in ascending order\n",
        "random_numbers.sort()\n",
        "\n",
        "# Print the sorted list\n",
        "print(random_numbers)"
      ],
      "execution_count": null,
      "outputs": [
        {
          "output_type": "stream",
          "name": "stdout",
          "text": [
            "[21, 28, 73, 81, 82]\n"
          ]
        }
      ]
    },
    {
      "cell_type": "code",
      "source": [
        "28.Write a code to create a list with strings and print the element at the third index"
      ],
      "metadata": {
        "id": "XfP5fH6Y3NQQ"
      },
      "execution_count": null,
      "outputs": []
    },
    {
      "cell_type": "code",
      "metadata": {
        "colab": {
          "base_uri": "https://localhost:8080/"
        },
        "id": "e9b4b9ae",
        "outputId": "61763f9a-9284-4e8d-bf98-72ed5f3aa72c"
      },
      "source": [
        "my_list = [\"apple\", \"banana\", \"cherry\", \"date\", \"elderberry\"]\n",
        "third_element = my_list[2]\n",
        "print(third_element)"
      ],
      "execution_count": null,
      "outputs": [
        {
          "output_type": "stream",
          "name": "stdout",
          "text": [
            "cherry\n"
          ]
        }
      ]
    },
    {
      "cell_type": "code",
      "source": [
        "29.Write a code to combine two dictionaries into one and print the result."
      ],
      "metadata": {
        "id": "643ZuE763ZUt"
      },
      "execution_count": null,
      "outputs": []
    },
    {
      "cell_type": "code",
      "metadata": {
        "colab": {
          "base_uri": "https://localhost:8080/"
        },
        "id": "04c6796f",
        "outputId": "d6de3bcf-e25c-49fb-a081-0618ecc8e357"
      },
      "source": [
        "dict1 = {\"a\": 1, \"b\": 2}\n",
        "dict2 = {\"c\": 3, \"d\": 4}\n",
        "\n",
        "# Using the update() method\n",
        "combined_dict_update = dict1.copy() # Create a copy to avoid modifying the original dict1\n",
        "combined_dict_update.update(dict2)\n",
        "print(\"Combined dictionary (using update()):\", combined_dict_update)\n",
        "\n",
        "# Using the ** operator (Python 3.5+)\n",
        "combined_dict_unpack = {**dict1, **dict2}\n",
        "print(\"Combined dictionary (using ** operator):\", combined_dict_unpack)"
      ],
      "execution_count": null,
      "outputs": [
        {
          "output_type": "stream",
          "name": "stdout",
          "text": [
            "Combined dictionary (using update()): {'a': 1, 'b': 2, 'c': 3, 'd': 4}\n",
            "Combined dictionary (using ** operator): {'a': 1, 'b': 2, 'c': 3, 'd': 4}\n"
          ]
        }
      ]
    },
    {
      "cell_type": "code",
      "source": [
        "30.Write a code to convert a list of strings into a set."
      ],
      "metadata": {
        "id": "9MHaBPO63iBu"
      },
      "execution_count": null,
      "outputs": []
    },
    {
      "cell_type": "code",
      "metadata": {
        "colab": {
          "base_uri": "https://localhost:8080/"
        },
        "id": "55222e60",
        "outputId": "00423a4d-7179-471c-b162-eb0ac378e98c"
      },
      "source": [
        "my_list = [\"apple\", \"banana\", \"cherry\", \"apple\", \"date\"]\n",
        "my_set = set(my_list)\n",
        "print(my_set)"
      ],
      "execution_count": null,
      "outputs": [
        {
          "output_type": "stream",
          "name": "stdout",
          "text": [
            "{'banana', 'cherry', 'apple', 'date'}\n"
          ]
        }
      ]
    }
  ]
}